{
 "cells": [
  {
   "cell_type": "markdown",
   "id": "8df22fbc",
   "metadata": {},
   "source": [
    "# Visualisierung der SVM"
   ]
  },
  {
   "cell_type": "code",
   "execution_count": 1,
   "id": "64f24f36",
   "metadata": {},
   "outputs": [],
   "source": [
    "import matplotlib.pyplot as plt\n",
    "import numpy as np\n",
    "import visualize"
   ]
  },
  {
   "cell_type": "code",
   "execution_count": 3,
   "id": "9ea1d743",
   "metadata": {},
   "outputs": [],
   "source": [
    "# Example input data\n",
    "# Input\n",
    "A = np.array(np.mat(\"2.0, 1.0, -1; 4.0, 1.0, -1; 4.0, 3.0, -1; 1.0, 2.0, 1; 1.0, 4.0, 1; 3.0, 4.0, 1\"))\n",
    "# Computed by QPDAS\n",
    "w = np.array([-1,1])\n",
    "b = 0"
   ]
  },
  {
   "cell_type": "code",
   "execution_count": 8,
   "id": "142d3425",
   "metadata": {},
   "outputs": [],
   "source": [
    "x_line, y_line = visualize.compute_line(w,b)"
   ]
  },
  {
   "cell_type": "markdown",
   "id": "d5b213aa",
   "metadata": {},
   "source": [
    "## Plot data"
   ]
  },
  {
   "cell_type": "code",
   "execution_count": 9,
   "id": "32226065",
   "metadata": {},
   "outputs": [],
   "source": [
    "# Split matrix into vectors\n",
    "x_1 = A[:, 0]\n",
    "x_2 = A[:, 1]\n",
    "y = A[:,2].astype(int).flatten()"
   ]
  },
  {
   "cell_type": "code",
   "execution_count": 11,
   "id": "f8e5a37d",
   "metadata": {},
   "outputs": [],
   "source": [
    "# Choose colors for each point based on input data\n",
    "colors = ['b', 'r', 'g']\n",
    "colors_y = [colors[i] for i in y]"
   ]
  },
  {
   "cell_type": "code",
   "execution_count": 12,
   "id": "8f04eac0",
   "metadata": {},
   "outputs": [
    {
     "data": {
      "image/png": "[encoded data removed]",
      "text/plain": [
       "<Figure size 432x288 with 1 Axes>"
      ]
     },
     "metadata": {
      "needs_background": "light"
     },
     "output_type": "display_data"
    }
   ],
   "source": [
    "plt.scatter(x_1, x_2, color=colors_y)\n",
    "plt.plot(x_line,y_line)\n",
    "plt.show()"
   ]
  },
  {
   "cell_type": "code",
   "execution_count": null,
   "id": "7acc62f4",
   "metadata": {},
   "outputs": [],
   "source": []
  }
 ],
 "metadata": {
  "kernelspec": {
   "display_name": ".venv",
   "language": "python",
   "name": ".venv"
  },
  "language_info": {
   "codemirror_mode": {
    "name": "ipython",
    "version": 3
   },
   "file_extension": ".py",
   "mimetype": "text/x-python",
   "name": "python",
   "nbconvert_exporter": "python",
   "pygments_lexer": "ipython3",
   "version": "3.9.5"
  }
 },
 "nbformat": 4,
 "nbformat_minor": 5
}
